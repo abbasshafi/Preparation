{
 "cells": [
  {
   "cell_type": "markdown",
   "metadata": {
    "id": "Xt45Sfk2tLJu"
   },
   "source": []
  },
  {
   "cell_type": "code",
   "execution_count": 1,
   "metadata": {
    "id": "ZyBhr4Mfq7jy"
   },
   "outputs": [],
   "source": [
    "import tensorflow as tf\n",
    "from tensorflow.keras import layers,models\n",
    "from tensorflow import keras\n",
    "import numpy as np"
   ]
  },
  {
   "cell_type": "code",
   "execution_count": 2,
   "metadata": {
    "colab": {
     "base_uri": "https://localhost:8080/"
    },
    "executionInfo": {
     "elapsed": 53,
     "status": "ok",
     "timestamp": 1639548624127,
     "user": {
      "displayName": "Asim Shah",
      "photoUrl": "https://lh3.googleusercontent.com/a-/AOh14GgdtnwdLVDEb1HLVqsK2NbJxIrS1JTOklLjndj1=s64",
      "userId": "06064739453259704713"
     },
     "user_tz": -300
    },
    "id": "IXwF_UIWtnze",
    "outputId": "d8d6c50f-d0f5-4256-95b2-ec8a9c79aec2"
   },
   "outputs": [],
   "source": [
    "(X_train, y_train) , (X_test, y_test) = keras.datasets.mnist.load_data()"
   ]
  },
  {
   "cell_type": "code",
   "execution_count": 3,
   "metadata": {
    "id": "IIKK_kCtto_C"
   },
   "outputs": [],
   "source": [
    "X_train = X_train / 255\n",
    "X_test = X_test / 255"
   ]
  },
  {
   "cell_type": "code",
   "execution_count": 4,
   "metadata": {
    "colab": {
     "base_uri": "https://localhost:8080/"
    },
    "executionInfo": {
     "elapsed": 6,
     "status": "ok",
     "timestamp": 1639549421144,
     "user": {
      "displayName": "Asim Shah",
      "photoUrl": "https://lh3.googleusercontent.com/a-/AOh14GgdtnwdLVDEb1HLVqsK2NbJxIrS1JTOklLjndj1=s64",
      "userId": "06064739453259704713"
     },
     "user_tz": -300
    },
    "id": "Ik4qUsJIt0vS",
    "outputId": "34452b35-7e1a-458c-8ef7-d10cf774a8d5"
   },
   "outputs": [
    {
     "data": {
      "text/plain": [
       "5"
      ]
     },
     "execution_count": 4,
     "metadata": {},
     "output_type": "execute_result"
    }
   ],
   "source": [
    "#X_train[0]\n",
    "y_train[0]"
   ]
  },
  {
   "cell_type": "code",
   "execution_count": 5,
   "metadata": {
    "colab": {
     "base_uri": "https://localhost:8080/"
    },
    "executionInfo": {
     "elapsed": 11,
     "status": "ok",
     "timestamp": 1639548721590,
     "user": {
      "displayName": "Asim Shah",
      "photoUrl": "https://lh3.googleusercontent.com/a-/AOh14GgdtnwdLVDEb1HLVqsK2NbJxIrS1JTOklLjndj1=s64",
      "userId": "06064739453259704713"
     },
     "user_tz": -300
    },
    "id": "bpcn6Cyft6sq",
    "outputId": "2a698ef5-48cd-4170-fa1a-efcdf1aaa4c7"
   },
   "outputs": [
    {
     "data": {
      "text/plain": [
       "(60000, 28, 28)"
      ]
     },
     "execution_count": 5,
     "metadata": {},
     "output_type": "execute_result"
    }
   ],
   "source": [
    "X_train.shape"
   ]
  },
  {
   "cell_type": "code",
   "execution_count": 6,
   "metadata": {
    "colab": {
     "base_uri": "https://localhost:8080/"
    },
    "executionInfo": {
     "elapsed": 12,
     "status": "ok",
     "timestamp": 1639548744415,
     "user": {
      "displayName": "Asim Shah",
      "photoUrl": "https://lh3.googleusercontent.com/a-/AOh14GgdtnwdLVDEb1HLVqsK2NbJxIrS1JTOklLjndj1=s64",
      "userId": "06064739453259704713"
     },
     "user_tz": -300
    },
    "id": "3tf7S4KSuBQr",
    "outputId": "6d3b054c-8e39-4757-97f3-db9fdd6fa59f"
   },
   "outputs": [
    {
     "data": {
      "text/plain": [
       "(60000, 28, 28, 1)"
      ]
     },
     "execution_count": 6,
     "metadata": {},
     "output_type": "execute_result"
    }
   ],
   "source": [
    "X_train = X_train.reshape(-1,28,28,1)\n",
    "X_train.shape\n"
   ]
  },
  {
   "cell_type": "code",
   "execution_count": 7,
   "metadata": {
    "colab": {
     "base_uri": "https://localhost:8080/"
    },
    "executionInfo": {
     "elapsed": 11,
     "status": "ok",
     "timestamp": 1639548760587,
     "user": {
      "displayName": "Asim Shah",
      "photoUrl": "https://lh3.googleusercontent.com/a-/AOh14GgdtnwdLVDEb1HLVqsK2NbJxIrS1JTOklLjndj1=s64",
      "userId": "06064739453259704713"
     },
     "user_tz": -300
    },
    "id": "ihz9aSdUuGzc",
    "outputId": "c90f2670-5ae6-4a4a-a6ac-106ed96fd34f"
   },
   "outputs": [
    {
     "data": {
      "text/plain": [
       "(10000, 28, 28, 1)"
      ]
     },
     "execution_count": 7,
     "metadata": {},
     "output_type": "execute_result"
    }
   ],
   "source": [
    "X_test = X_test.reshape(-1,28,28,1)\n",
    "X_test.shape"
   ]
  },
  {
   "cell_type": "code",
   "execution_count": 8,
   "metadata": {
    "id": "b1vGhhkauKxM"
   },
   "outputs": [],
   "source": [
    "convolutional_neural_network = models.Sequential([\n",
    "    layers.Conv2D(filters=25, kernel_size=(3, 3), activation='relu', input_shape=(28,28,1)),\n",
    "    layers.MaxPooling2D((2, 2)),\n",
    "    \n",
    "    layers.Conv2D(filters=64, kernel_size=(3, 3), activation='relu'),\n",
    "    layers.MaxPooling2D((2, 2)),\n",
    "\n",
    "    layers.Conv2D(filters=64, kernel_size=(3, 3), activation='relu'),\n",
    "    layers.MaxPooling2D((2, 2)),\n",
    "    \n",
    "    layers.Flatten(),\n",
    "    layers.Dense(64, activation='relu'),\n",
    "    layers.Dense(10, activation='softmax')\n",
    "])"
   ]
  },
  {
   "cell_type": "code",
   "execution_count": 9,
   "metadata": {
    "colab": {
     "base_uri": "https://localhost:8080/"
    },
    "executionInfo": {
     "elapsed": 585281,
     "status": "ok",
     "timestamp": 1639549419588,
     "user": {
      "displayName": "Asim Shah",
      "photoUrl": "https://lh3.googleusercontent.com/a-/AOh14GgdtnwdLVDEb1HLVqsK2NbJxIrS1JTOklLjndj1=s64",
      "userId": "06064739453259704713"
     },
     "user_tz": -300
    },
    "id": "NL2iaTUBuSk8",
    "outputId": "7965361e-a7e6-4b61-aacc-851c52ecc4b3"
   },
   "outputs": [
    {
     "name": "stdout",
     "output_type": "stream",
     "text": [
      "Epoch 1/10\n",
      "1875/1875 [==============================] - 30s 15ms/step - loss: 0.2203 - accuracy: 0.9323\n",
      "Epoch 2/10\n",
      "1875/1875 [==============================] - 28s 15ms/step - loss: 0.0770 - accuracy: 0.9759\n",
      "Epoch 3/10\n",
      "1875/1875 [==============================] - 27s 14ms/step - loss: 0.0546 - accuracy: 0.9829\n",
      "Epoch 4/10\n",
      "1875/1875 [==============================] - 29s 16ms/step - loss: 0.0450 - accuracy: 0.9857\n",
      "Epoch 5/10\n",
      "1875/1875 [==============================] - 28s 15ms/step - loss: 0.0366 - accuracy: 0.9888\n",
      "Epoch 6/10\n",
      "1875/1875 [==============================] - 31s 17ms/step - loss: 0.0298 - accuracy: 0.9907\n",
      "Epoch 7/10\n",
      "1875/1875 [==============================] - 30s 16ms/step - loss: 0.0264 - accuracy: 0.9912\n",
      "Epoch 8/10\n",
      "1875/1875 [==============================] - 30s 16ms/step - loss: 0.0209 - accuracy: 0.9931\n",
      "Epoch 9/10\n",
      "1875/1875 [==============================] - 31s 16ms/step - loss: 0.0173 - accuracy: 0.9940\n",
      "Epoch 10/10\n",
      "1875/1875 [==============================] - 31s 17ms/step - loss: 0.0155 - accuracy: 0.9948\n"
     ]
    },
    {
     "data": {
      "text/plain": [
       "<tensorflow.python.keras.callbacks.History at 0x7f3e54a7b760>"
      ]
     },
     "execution_count": 9,
     "metadata": {},
     "output_type": "execute_result"
    }
   ],
   "source": [
    "convolutional_neural_network.compile(optimizer='adam', loss='sparse_categorical_crossentropy', metrics=['accuracy'])\n",
    "convolutional_neural_network.fit(X_train, y_train, epochs=10)"
   ]
  },
  {
   "cell_type": "code",
   "execution_count": 10,
   "metadata": {
    "colab": {
     "base_uri": "https://localhost:8080/"
    },
    "executionInfo": {
     "elapsed": 5997,
     "status": "ok",
     "timestamp": 1639549514586,
     "user": {
      "displayName": "Asim Shah",
      "photoUrl": "https://lh3.googleusercontent.com/a-/AOh14GgdtnwdLVDEb1HLVqsK2NbJxIrS1JTOklLjndj1=s64",
      "userId": "06064739453259704713"
     },
     "user_tz": -300
    },
    "id": "aR34wfGeuc2R",
    "outputId": "1c5205a6-9016-47b9-f771-c9c31b64150d"
   },
   "outputs": [
    {
     "name": "stdout",
     "output_type": "stream",
     "text": [
      "313/313 [==============================] - 2s 5ms/step - loss: 0.0492 - accuracy: 0.9851\n"
     ]
    },
    {
     "data": {
      "text/plain": [
       "[0.04921017587184906, 0.9850999712944031]"
      ]
     },
     "execution_count": 10,
     "metadata": {},
     "output_type": "execute_result"
    }
   ],
   "source": [
    "convolutional_neural_network.evaluate(X_test, y_test)"
   ]
  },
  {
   "cell_type": "code",
   "execution_count": 11,
   "metadata": {
    "colab": {
     "base_uri": "https://localhost:8080/"
    },
    "executionInfo": {
     "elapsed": 5036,
     "status": "ok",
     "timestamp": 1639549542186,
     "user": {
      "displayName": "Asim Shah",
      "photoUrl": "https://lh3.googleusercontent.com/a-/AOh14GgdtnwdLVDEb1HLVqsK2NbJxIrS1JTOklLjndj1=s64",
      "userId": "06064739453259704713"
     },
     "user_tz": -300
    },
    "id": "hRY1PEO6xBXN",
    "outputId": "6657d3db-5bff-4c22-81d6-480a83fd0b22"
   },
   "outputs": [
    {
     "data": {
      "text/plain": [
       "array([3.7120049e-08, 2.3216762e-07, 9.8379869e-06, 9.8713360e-07,\n",
       "       6.2742110e-08, 2.4441753e-09, 1.3330336e-12, 9.9998784e-01,\n",
       "       1.9376329e-09, 1.1293542e-06], dtype=float32)"
      ]
     },
     "execution_count": 11,
     "metadata": {},
     "output_type": "execute_result"
    }
   ],
   "source": [
    "y_predicted_by_model = convolutional_neural_network.predict(X_test)\n",
    "y_predicted_by_model[0]   #getting probability score for each class digits"
   ]
  },
  {
   "cell_type": "code",
   "execution_count": 12,
   "metadata": {
    "colab": {
     "base_uri": "https://localhost:8080/"
    },
    "executionInfo": {
     "elapsed": 571,
     "status": "ok",
     "timestamp": 1639549858233,
     "user": {
      "displayName": "Asim Shah",
      "photoUrl": "https://lh3.googleusercontent.com/a-/AOh14GgdtnwdLVDEb1HLVqsK2NbJxIrS1JTOklLjndj1=s64",
      "userId": "06064739453259704713"
     },
     "user_tz": -300
    },
    "id": "TkhUL8GExIbd",
    "outputId": "216224a9-caae-4e9a-a11c-4552e114de93"
   },
   "outputs": [
    {
     "data": {
      "text/plain": [
       "7"
      ]
     },
     "execution_count": 12,
     "metadata": {},
     "output_type": "execute_result"
    }
   ],
   "source": [
    "np.argmax(y_predicted_by_model[0])"
   ]
  },
  {
   "cell_type": "code",
   "execution_count": 13,
   "metadata": {
    "id": "rm_ZiHRwxoK2"
   },
   "outputs": [],
   "source": [
    "y_predicted_labels = [np.argmax(i) for i in y_predicted_by_model]"
   ]
  },
  {
   "cell_type": "code",
   "execution_count": 14,
   "metadata": {
    "colab": {
     "base_uri": "https://localhost:8080/"
    },
    "executionInfo": {
     "elapsed": 515,
     "status": "ok",
     "timestamp": 1639550012692,
     "user": {
      "displayName": "Asim Shah",
      "photoUrl": "https://lh3.googleusercontent.com/a-/AOh14GgdtnwdLVDEb1HLVqsK2NbJxIrS1JTOklLjndj1=s64",
      "userId": "06064739453259704713"
     },
     "user_tz": -300
    },
    "id": "stGtgyKKyfRL",
    "outputId": "aaae58dd-24e9-4d42-d2b2-cce43b51f383"
   },
   "outputs": [
    {
     "data": {
      "text/plain": [
       "[7, 2, 1, 0, 4]"
      ]
     },
     "execution_count": 14,
     "metadata": {},
     "output_type": "execute_result"
    }
   ],
   "source": [
    "y_predicted_labels[:5]"
   ]
  },
  {
   "cell_type": "code",
   "execution_count": null,
   "metadata": {
    "id": "D5mIbLQCy8Xd"
   },
   "outputs": [],
   "source": []
  }
 ],
 "metadata": {
  "colab": {
   "authorship_tag": "ABX9TyO8P5VNM8kVaEqftFTH5lk+",
   "collapsed_sections": [],
   "name": "Hand Written digit recognition using MNIST dataset.ipynb",
   "provenance": []
  },
  "kernelspec": {
   "display_name": "Python 3",
   "language": "python",
   "name": "python3"
  },
  "language_info": {
   "codemirror_mode": {
    "name": "ipython",
    "version": 3
   },
   "file_extension": ".py",
   "mimetype": "text/x-python",
   "name": "python",
   "nbconvert_exporter": "python",
   "pygments_lexer": "ipython3",
   "version": "3.8.5"
  }
 },
 "nbformat": 4,
 "nbformat_minor": 1
}
